{
 "cells": [
  {
   "cell_type": "markdown",
   "metadata": {},
   "source": [
    "# Seaborn "
   ]
  },
  {
   "cell_type": "markdown",
   "metadata": {},
   "source": [
    "### Seaborn est une bibliothèque Python pour la visualisation de données, spécialisée dans l'analyse statistique. Basée sur la bibliothèque Matplotlib, elle est totalement adaptée aux data frames de Pandas. Ainsi, au delà d'une interface visuellement améliorée, Seaborn permet de produire rapidement et intuitivement des graphiques statistiques de qualité.\n",
    "\n",
    "De plus, Seaborn utilise des thèmes par défaut esthétiquement agréable, et permet de créer facilement ses propres palettes de couleurs. Seaborn permet ainsi d'apprendre à connaître un jeu de données de manière rapide et efficace.\n",
    "\n",
    "Cependant, Seaborn a plus vocation à compléter la bibliothèque Matplotlib qu'à la remplacer. Ainsi, vu que la plupart des fonctions de la première utilise des fonctions de la seconde, certaines modifications ou personnalisations requierront l'appel à Matplotlib."
   ]
  },
  {
   "cell_type": "code",
   "execution_count": 13,
   "metadata": {
    "scrolled": true
   },
   "outputs": [
    {
     "ename": "FileNotFoundError",
     "evalue": "[Errno 2] File b'Seaborn/nba_sb2.csv' does not exist: b'Seaborn/nba_sb2.csv'",
     "output_type": "error",
     "traceback": [
      "\u001b[0;31m---------------------------------------------------------------------------\u001b[0m",
      "\u001b[0;31mFileNotFoundError\u001b[0m                         Traceback (most recent call last)",
      "\u001b[0;32m<ipython-input-13-bb7fda9961e7>\u001b[0m in \u001b[0;36m<module>\u001b[0;34m\u001b[0m\n\u001b[1;32m      6\u001b[0m \u001b[0;34m\u001b[0m\u001b[0m\n\u001b[1;32m      7\u001b[0m \u001b[0;34m\u001b[0m\u001b[0m\n\u001b[0;32m----> 8\u001b[0;31m \u001b[0mdf\u001b[0m \u001b[0;34m=\u001b[0m \u001b[0mpd\u001b[0m\u001b[0;34m.\u001b[0m\u001b[0mread_csv\u001b[0m\u001b[0;34m(\u001b[0m\u001b[0;34m'Seaborn/nba_sb2.csv'\u001b[0m\u001b[0;34m,\u001b[0m \u001b[0mindex_col\u001b[0m\u001b[0;34m=\u001b[0m \u001b[0;36m0\u001b[0m\u001b[0;34m)\u001b[0m\u001b[0;34m\u001b[0m\u001b[0;34m\u001b[0m\u001b[0m\n\u001b[0m\u001b[1;32m      9\u001b[0m \u001b[0mdf\u001b[0m\u001b[0;34m\u001b[0m\u001b[0;34m\u001b[0m\u001b[0m\n\u001b[1;32m     10\u001b[0m \u001b[0;31m#df[df['age']==25]\u001b[0m\u001b[0;34m\u001b[0m\u001b[0;34m\u001b[0m\u001b[0;34m\u001b[0m\u001b[0m\n",
      "\u001b[0;32m~/.local/lib/python3.6/site-packages/pandas/io/parsers.py\u001b[0m in \u001b[0;36mparser_f\u001b[0;34m(filepath_or_buffer, sep, delimiter, header, names, index_col, usecols, squeeze, prefix, mangle_dupe_cols, dtype, engine, converters, true_values, false_values, skipinitialspace, skiprows, skipfooter, nrows, na_values, keep_default_na, na_filter, verbose, skip_blank_lines, parse_dates, infer_datetime_format, keep_date_col, date_parser, dayfirst, iterator, chunksize, compression, thousands, decimal, lineterminator, quotechar, quoting, doublequote, escapechar, comment, encoding, dialect, tupleize_cols, error_bad_lines, warn_bad_lines, delim_whitespace, low_memory, memory_map, float_precision)\u001b[0m\n\u001b[1;32m    700\u001b[0m                     skip_blank_lines=skip_blank_lines)\n\u001b[1;32m    701\u001b[0m \u001b[0;34m\u001b[0m\u001b[0m\n\u001b[0;32m--> 702\u001b[0;31m         \u001b[0;32mreturn\u001b[0m \u001b[0m_read\u001b[0m\u001b[0;34m(\u001b[0m\u001b[0mfilepath_or_buffer\u001b[0m\u001b[0;34m,\u001b[0m \u001b[0mkwds\u001b[0m\u001b[0;34m)\u001b[0m\u001b[0;34m\u001b[0m\u001b[0;34m\u001b[0m\u001b[0m\n\u001b[0m\u001b[1;32m    703\u001b[0m \u001b[0;34m\u001b[0m\u001b[0m\n\u001b[1;32m    704\u001b[0m     \u001b[0mparser_f\u001b[0m\u001b[0;34m.\u001b[0m\u001b[0m__name__\u001b[0m \u001b[0;34m=\u001b[0m \u001b[0mname\u001b[0m\u001b[0;34m\u001b[0m\u001b[0;34m\u001b[0m\u001b[0m\n",
      "\u001b[0;32m~/.local/lib/python3.6/site-packages/pandas/io/parsers.py\u001b[0m in \u001b[0;36m_read\u001b[0;34m(filepath_or_buffer, kwds)\u001b[0m\n\u001b[1;32m    427\u001b[0m \u001b[0;34m\u001b[0m\u001b[0m\n\u001b[1;32m    428\u001b[0m     \u001b[0;31m# Create the parser.\u001b[0m\u001b[0;34m\u001b[0m\u001b[0;34m\u001b[0m\u001b[0;34m\u001b[0m\u001b[0m\n\u001b[0;32m--> 429\u001b[0;31m     \u001b[0mparser\u001b[0m \u001b[0;34m=\u001b[0m \u001b[0mTextFileReader\u001b[0m\u001b[0;34m(\u001b[0m\u001b[0mfilepath_or_buffer\u001b[0m\u001b[0;34m,\u001b[0m \u001b[0;34m**\u001b[0m\u001b[0mkwds\u001b[0m\u001b[0;34m)\u001b[0m\u001b[0;34m\u001b[0m\u001b[0;34m\u001b[0m\u001b[0m\n\u001b[0m\u001b[1;32m    430\u001b[0m \u001b[0;34m\u001b[0m\u001b[0m\n\u001b[1;32m    431\u001b[0m     \u001b[0;32mif\u001b[0m \u001b[0mchunksize\u001b[0m \u001b[0;32mor\u001b[0m \u001b[0miterator\u001b[0m\u001b[0;34m:\u001b[0m\u001b[0;34m\u001b[0m\u001b[0;34m\u001b[0m\u001b[0m\n",
      "\u001b[0;32m~/.local/lib/python3.6/site-packages/pandas/io/parsers.py\u001b[0m in \u001b[0;36m__init__\u001b[0;34m(self, f, engine, **kwds)\u001b[0m\n\u001b[1;32m    893\u001b[0m             \u001b[0mself\u001b[0m\u001b[0;34m.\u001b[0m\u001b[0moptions\u001b[0m\u001b[0;34m[\u001b[0m\u001b[0;34m'has_index_names'\u001b[0m\u001b[0;34m]\u001b[0m \u001b[0;34m=\u001b[0m \u001b[0mkwds\u001b[0m\u001b[0;34m[\u001b[0m\u001b[0;34m'has_index_names'\u001b[0m\u001b[0;34m]\u001b[0m\u001b[0;34m\u001b[0m\u001b[0;34m\u001b[0m\u001b[0m\n\u001b[1;32m    894\u001b[0m \u001b[0;34m\u001b[0m\u001b[0m\n\u001b[0;32m--> 895\u001b[0;31m         \u001b[0mself\u001b[0m\u001b[0;34m.\u001b[0m\u001b[0m_make_engine\u001b[0m\u001b[0;34m(\u001b[0m\u001b[0mself\u001b[0m\u001b[0;34m.\u001b[0m\u001b[0mengine\u001b[0m\u001b[0;34m)\u001b[0m\u001b[0;34m\u001b[0m\u001b[0;34m\u001b[0m\u001b[0m\n\u001b[0m\u001b[1;32m    896\u001b[0m \u001b[0;34m\u001b[0m\u001b[0m\n\u001b[1;32m    897\u001b[0m     \u001b[0;32mdef\u001b[0m \u001b[0mclose\u001b[0m\u001b[0;34m(\u001b[0m\u001b[0mself\u001b[0m\u001b[0;34m)\u001b[0m\u001b[0;34m:\u001b[0m\u001b[0;34m\u001b[0m\u001b[0;34m\u001b[0m\u001b[0m\n",
      "\u001b[0;32m~/.local/lib/python3.6/site-packages/pandas/io/parsers.py\u001b[0m in \u001b[0;36m_make_engine\u001b[0;34m(self, engine)\u001b[0m\n\u001b[1;32m   1120\u001b[0m     \u001b[0;32mdef\u001b[0m \u001b[0m_make_engine\u001b[0m\u001b[0;34m(\u001b[0m\u001b[0mself\u001b[0m\u001b[0;34m,\u001b[0m \u001b[0mengine\u001b[0m\u001b[0;34m=\u001b[0m\u001b[0;34m'c'\u001b[0m\u001b[0;34m)\u001b[0m\u001b[0;34m:\u001b[0m\u001b[0;34m\u001b[0m\u001b[0;34m\u001b[0m\u001b[0m\n\u001b[1;32m   1121\u001b[0m         \u001b[0;32mif\u001b[0m \u001b[0mengine\u001b[0m \u001b[0;34m==\u001b[0m \u001b[0;34m'c'\u001b[0m\u001b[0;34m:\u001b[0m\u001b[0;34m\u001b[0m\u001b[0;34m\u001b[0m\u001b[0m\n\u001b[0;32m-> 1122\u001b[0;31m             \u001b[0mself\u001b[0m\u001b[0;34m.\u001b[0m\u001b[0m_engine\u001b[0m \u001b[0;34m=\u001b[0m \u001b[0mCParserWrapper\u001b[0m\u001b[0;34m(\u001b[0m\u001b[0mself\u001b[0m\u001b[0;34m.\u001b[0m\u001b[0mf\u001b[0m\u001b[0;34m,\u001b[0m \u001b[0;34m**\u001b[0m\u001b[0mself\u001b[0m\u001b[0;34m.\u001b[0m\u001b[0moptions\u001b[0m\u001b[0;34m)\u001b[0m\u001b[0;34m\u001b[0m\u001b[0;34m\u001b[0m\u001b[0m\n\u001b[0m\u001b[1;32m   1123\u001b[0m         \u001b[0;32melse\u001b[0m\u001b[0;34m:\u001b[0m\u001b[0;34m\u001b[0m\u001b[0;34m\u001b[0m\u001b[0m\n\u001b[1;32m   1124\u001b[0m             \u001b[0;32mif\u001b[0m \u001b[0mengine\u001b[0m \u001b[0;34m==\u001b[0m \u001b[0;34m'python'\u001b[0m\u001b[0;34m:\u001b[0m\u001b[0;34m\u001b[0m\u001b[0;34m\u001b[0m\u001b[0m\n",
      "\u001b[0;32m~/.local/lib/python3.6/site-packages/pandas/io/parsers.py\u001b[0m in \u001b[0;36m__init__\u001b[0;34m(self, src, **kwds)\u001b[0m\n\u001b[1;32m   1851\u001b[0m         \u001b[0mkwds\u001b[0m\u001b[0;34m[\u001b[0m\u001b[0;34m'usecols'\u001b[0m\u001b[0;34m]\u001b[0m \u001b[0;34m=\u001b[0m \u001b[0mself\u001b[0m\u001b[0;34m.\u001b[0m\u001b[0musecols\u001b[0m\u001b[0;34m\u001b[0m\u001b[0;34m\u001b[0m\u001b[0m\n\u001b[1;32m   1852\u001b[0m \u001b[0;34m\u001b[0m\u001b[0m\n\u001b[0;32m-> 1853\u001b[0;31m         \u001b[0mself\u001b[0m\u001b[0;34m.\u001b[0m\u001b[0m_reader\u001b[0m \u001b[0;34m=\u001b[0m \u001b[0mparsers\u001b[0m\u001b[0;34m.\u001b[0m\u001b[0mTextReader\u001b[0m\u001b[0;34m(\u001b[0m\u001b[0msrc\u001b[0m\u001b[0;34m,\u001b[0m \u001b[0;34m**\u001b[0m\u001b[0mkwds\u001b[0m\u001b[0;34m)\u001b[0m\u001b[0;34m\u001b[0m\u001b[0;34m\u001b[0m\u001b[0m\n\u001b[0m\u001b[1;32m   1854\u001b[0m         \u001b[0mself\u001b[0m\u001b[0;34m.\u001b[0m\u001b[0munnamed_cols\u001b[0m \u001b[0;34m=\u001b[0m \u001b[0mself\u001b[0m\u001b[0;34m.\u001b[0m\u001b[0m_reader\u001b[0m\u001b[0;34m.\u001b[0m\u001b[0munnamed_cols\u001b[0m\u001b[0;34m\u001b[0m\u001b[0;34m\u001b[0m\u001b[0m\n\u001b[1;32m   1855\u001b[0m \u001b[0;34m\u001b[0m\u001b[0m\n",
      "\u001b[0;32mpandas/_libs/parsers.pyx\u001b[0m in \u001b[0;36mpandas._libs.parsers.TextReader.__cinit__\u001b[0;34m()\u001b[0m\n",
      "\u001b[0;32mpandas/_libs/parsers.pyx\u001b[0m in \u001b[0;36mpandas._libs.parsers.TextReader._setup_parser_source\u001b[0;34m()\u001b[0m\n",
      "\u001b[0;31mFileNotFoundError\u001b[0m: [Errno 2] File b'Seaborn/nba_sb2.csv' does not exist: b'Seaborn/nba_sb2.csv'"
     ]
    }
   ],
   "source": [
    "import numpy as np\n",
    "import pandas as pd\n",
    "import matplotlib.pyplot as plt\n",
    "import seaborn as sns\n",
    "%matplotlib inline \n",
    "\n",
    "\n",
    "df = pd.read_csv('nba_sb2.csv', index_col= 0)\n",
    "df\n",
    "#df[df['age']==25]"
   ]
  },
  {
   "cell_type": "markdown",
   "metadata": {},
   "source": [
    "Les données utilisées dans cette formation proviennent d'un jeu de données concernant des joueurs de NBA et leurs performances pour la saison 2013-2014. Le dataset contient une vingtaine de variables qui correspondent pour la plupart aux caractéristiques relatives aux profils des joueurs et de leurs équipes, ainsi qu'à leurs performances sur le terrain.\n",
    "\n",
    "Parmis les 21 variables, on a entre autres pour chaque joueur:\n",
    "\n",
    "- player : Prénom et Nom du joueur\n",
    "- age: L'âge du joueur au début de la saison\n",
    "- pos: Le poste du joeur au sein de son équipe: Meneur(PG: point guard), Arrière(SG: shooting guard), Pivot(C: center) etc..\n",
    "- g : Nombre de matchs joués\n",
    "- gs: Nombre de matchs débutés\n",
    "- mp: Nombre de minutes joués par saison\n",
    "- fg.: Pourcentage de field goals (paniers tirés autres que lancers francs) réussis\n",
    "- tov: Nombre de récupération de ballon\n",
    "- po : NP si l'équipe n'a pas atteint les playoffs, FT si elle a atteint les deux premiers tours des playoffs, F si elle a atteint la finale de sa conference.\n",
    "- conf : La \"conférence\" à laquelle l'équipe appartient (Est/Ouest) etc...\n",
    "\n",
    "Toutes les abréviations utilisées concernant le basket-ball sont définies ici."
   ]
  },
  {
   "cell_type": "code",
   "execution_count": null,
   "metadata": {},
   "outputs": [],
   "source": [
    "## Exécuter pour activer le thème par défaut de Seaborn\n",
    "sns.set_theme()"
   ]
  },
  {
   "cell_type": "markdown",
   "metadata": {},
   "source": [
    "### Distribution d'une variable continue  avec displot()\n",
    "Lorsque l'on s'intéresse à une seule variable d'un DataFrame, la première étape à effectuer est **l'analyse de sa distribution.**\n",
    "\n",
    "Pour une variable numérique continue, le graphique le plus communément utilisé est l'histogramme.\n",
    "La fonction displot de seaborn permet de visualiser la distribution d'une variable continue en affichant un histogramme de la variable. Il est également possible d'ajouter l'estimation par noyau de sa densité.\n",
    "\n",
    "Les intervalles de l'histogramme sont calculés de manière automatique mais peuvent être donnés à l'aide de l'argument **bins** .\n",
    "Le seul argument obligatoire est la liste contenant la variable que l'on souhaite visualiser. \n",
    "Si la séquence est un objet Pandas, le nom de la variable est automatiquement ajouté au label de l'axe sur lequel la variable est affichée."
   ]
  },
  {
   "cell_type": "markdown",
   "metadata": {},
   "source": [
    "La fonction displot permet en réalité d'afficher au choix un histogramme, une estimation de la densité par méthode de noyau, et/ou une fonction de répartition empirique (ECDF), grâce au paramètre kind qui prend réspectivement en argument les valeurs \"hist\" (par défaut), \"kde\" et \"ecdf\".\n",
    "\n",
    "En mode histogramme, il est également possible d'ajouter une courbe d'estimation de la densité ou un rug plot (qui ajoute les points au graphique sous forme de petites tiges verticales), grâce aux arguments booléens kde et rug.\n",
    "\n",
    "Le graphique peut également être personnalisé à l'aide des paramètres color ou vertical pour changer la couleur ou l'orientation du graphique."
   ]
  },
  {
   "cell_type": "code",
   "execution_count": null,
   "metadata": {},
   "outputs": [],
   "source": [
    "sns.displot(df.age, bins=10, kde=True, rug=True, color='red');"
   ]
  },
  {
   "cell_type": "markdown",
   "metadata": {},
   "source": [
    "### Densité par noyau avec kdeplot() \n",
    "Pour afficher uniquement la densité estimée, il est préférable d'utiliser directement la fonction kdeplot, qui permet plus de personnalisation.\n",
    "\n",
    "Les arguments shade clip et cut, par exemple, permettent respectivement de colorer l'air sous la courbe, de délimiter la courbe entre deux bornes, ou de couper ses extrémités.\n",
    "\n",
    "Il convient de noter que la fonction displot permet également de rajouter les arguments propres à une des fonctions qu'elle utilise dans un dictionnaire portant le nom : {hist, kde, ecdf}_kws."
   ]
  },
  {
   "cell_type": "code",
   "execution_count": null,
   "metadata": {},
   "outputs": [],
   "source": [
    "sns.kdeplot(df.age, shade=True, cut=0);\n",
    "# ou sns.displot(df.age, kind = \"kde\", kde_kws ={'shade':True, 'cut': 0})"
   ]
  },
  {
   "cell_type": "markdown",
   "metadata": {},
   "source": [
    "### Répartitions cumulées empiriques avec ECDF\n",
    "Il existe trois principaux types de graphiques pour analyser la distribution d'une variable continue: En plus des histogrammes et des estimations de la densité par noyaux (kde), vous pouvez également afficher les fonctions de répartitions cumulées empiriques (ECDF pour empirical cumulative distribution functions)\n",
    "\n",
    "Une ECDF représente la proportion ou le nombre d'observations inférieurs à chaque valeur unique dans un ensemble de données. Par rapport à un histogramme ou à une courbe de densité, elle présente l'avantage de visualiser directement chaque observation, ce qui signifie qu'il n'y a pas de paramètres à ajuster. Elle permet également de comparer directement différentes distributions sur le même graphique. En revanche, les relation entre l'apparence de la courbe et les propriétés de base de la distribution (telles que sa tendance centrale, sa variance et la présence d'une bimodalité) sont moins évidentes."
   ]
  },
  {
   "cell_type": "code",
   "execution_count": null,
   "metadata": {},
   "outputs": [],
   "source": [
    "sns.displot(df.age, kind = \"ecdf\");"
   ]
  },
  {
   "cell_type": "markdown",
   "metadata": {},
   "source": [
    "## Variable catégorielle ou quantitative discrète\n",
    "Lorsque la variable à analyser est une variable quantitative discrète ou catégorielle, un graphique qui peut aider à visualiser sa distribution est le diagramme en barre qui affiche le nombre d'éléments correspondant à chaque modalité de la variable.\n",
    "\n",
    "Ce graphique est obtenu simplement grâce à la fonction countplot de Seaborn, qui accepte dans l'argument x une séquence de valeurs catégorielles ou quantitative discrète, ou le nom de la variable, si l'on précise le nom du data frame qui la contient dans l'argument data."
   ]
  },
  {
   "cell_type": "code",
   "execution_count": null,
   "metadata": {},
   "outputs": [],
   "source": [
    "sns.countplot(x=\"po\", data=df);"
   ]
  },
  {
   "cell_type": "markdown",
   "metadata": {},
   "source": [
    "Si l'on souhaite calculer le nombre d'individus correspondant à chaque modalitéd'une variable, selon son appartenance à une autre variable, on peut rajouter l'argument hue.\n",
    "\n",
    "Cet argument, très utile sur Seaborn permet de faire varier chaque type de graphique en fonction d'une autre variable catégorielle.\n",
    "\n"
   ]
  },
  {
   "cell_type": "code",
   "execution_count": null,
   "metadata": {},
   "outputs": [],
   "source": [
    "sns.countplot(x=\"po\", hue =\"pos\", data=df);"
   ]
  },
  {
   "cell_type": "markdown",
   "metadata": {},
   "source": [
    "# Graphiques multiples  avec FacetGrid()"
   ]
  },
  {
   "cell_type": "markdown",
   "metadata": {},
   "source": [
    "Lorsque l'exploration d'un jeu de données nécessite de visualiser la distribution d'une variable ou une relation entre plusieurs variables, à l'intérieur de sous-ensembles des données, la classe FacetGrid se révèle très utile. \n",
    "\n",
    "Les objets FacetGrid sont des Figures de Maltplotlib multi-dimensionnels qui permettent d'afficher des graphiques à partir de sous-ensembles de données divisés par lignes, par colonnes et par une troisième dimension grâce à l'argument hue.\n",
    "\n",
    "La majorité des fonctions utilisées dans ce tutoriel (relplot, catplot, lmplot) utilisent et retournent des objets FacetGrid directement, mais il est possible d'instancier ce type de graphiques manuellement afin de créer des graphiques particuliers et personnalisés\n",
    "\n",
    "Pour créer une figure multi-graphiques à l'aide de la fonction FacetGrid, il suffit de lui donner en argument le nom du dataset et des variables à utiliser sur une ou plusieurs des 3 dimensions. La où les variables doivent être catégorielles ou discrètes. Une grille est ainsi créée et pour chaque variable utilisée le long d'un axe, la grille sépare les différents graphiques selon les modalités prises le long de cet axe.\n",
    "\n",
    "Pour ajouter un graphique à chaque case de la grille ainsi crée, on utilise la méthode map à l'intérieur de laquelle on indique la fonction à utiliser et les différents paramètres à régler.\n"
   ]
  },
  {
   "cell_type": "code",
   "execution_count": null,
   "metadata": {},
   "outputs": [],
   "source": [
    "g = sns.FacetGrid(df, col=\"conf\");\n",
    "g.map(plt.hist, \"age\");"
   ]
  },
  {
   "cell_type": "code",
   "execution_count": null,
   "metadata": {
    "scrolled": false
   },
   "outputs": [],
   "source": [
    "g = sns.FacetGrid(df, col=\"po\", row='pos', hue='conf');  \n",
    "g.map(plt.scatter, \"mp\", \"ft.\", alpha=1); #mp nb de minutes joués , # % de lancers francs réussis\n",
    "g.add_legend();\n"
   ]
  },
  {
   "cell_type": "markdown",
   "metadata": {},
   "source": [
    "###  PairGrid \n",
    "- PairGrid permet le tracé de graphes multiples avec des relations 2 à 2 dans un Dataset.\n",
    "Cette classe mappe chaque variable d'un ensemble de données sur une colonne et une ligne dans une grille à axes multiples. \n",
    "\n",
    "- Il peut également représenter un niveau supplémentaire de conditionnalité avec le paramètre de teinte Alpha, qui trace différents sous-ensembles de données dans différentes couleurs. \n",
    "                  \n",
    "               seaborn.PairGrid( data, \\*\\*kwargs)"
   ]
  },
  {
   "cell_type": "code",
   "execution_count": null,
   "metadata": {
    "scrolled": false
   },
   "outputs": [],
   "source": [
    "g = sns.PairGrid(df.iloc[:,14:21], hue= 'po');\n",
    "g.map(plt.scatter, alpha=1);\n",
    "g.add_legend();"
   ]
  },
  {
   "cell_type": "code",
   "execution_count": null,
   "metadata": {},
   "outputs": [],
   "source": [
    "df.iloc[:,14:21]"
   ]
  },
  {
   "cell_type": "code",
   "execution_count": null,
   "metadata": {},
   "outputs": [],
   "source": []
  }
 ],
 "metadata": {
  "kernelspec": {
   "display_name": "Python 3",
   "language": "python",
   "name": "python3"
  },
  "language_info": {
   "codemirror_mode": {
    "name": "ipython",
    "version": 3
   },
   "file_extension": ".py",
   "mimetype": "text/x-python",
   "name": "python",
   "nbconvert_exporter": "python",
   "pygments_lexer": "ipython3",
   "version": "3.6.9"
  }
 },
 "nbformat": 4,
 "nbformat_minor": 2
}
